{
 "cells": [
  {
   "cell_type": "markdown",
   "id": "1ee3ebdd-9338-4da0-8221-ec18150520ea",
   "metadata": {},
   "source": [
    "# Necessary imports for recipes generation"
   ]
  },
  {
   "cell_type": "code",
   "execution_count": 1,
   "id": "c4343246-a723-4ac2-989c-44e793e5f3e4",
   "metadata": {},
   "outputs": [],
   "source": [
    "from transformers import GPT2LMHeadModel, GPT2Tokenizer, GPT2Config, GPT2TokenizerFast\n",
    "from torch.utils.data import Dataset, DataLoader\n",
    "from recipes_generator.data.recipe_dataset import RecipeDataset, load_preprocess_raw_json_data, load_preprocess_raw_csv_data\n",
    "import recipes_generator.model.recipe_model\n",
    "from torch.optim import AdamW\n",
    "from torch.nn.utils import clip_grad_norm_\n",
    "from tqdm import tqdm\n",
    "from torch.cuda.amp import autocast, GradScaler\n",
    "import random\n",
    "import numpy as np"
   ]
  },
  {
   "cell_type": "markdown",
   "id": "b36e4ccc-ec4b-406e-b058-337d259e2531",
   "metadata": {},
   "source": [
    "# Dataset creation"
   ]
  },
  {
   "cell_type": "code",
   "execution_count": 2,
   "id": "f11d1a42-dee8-4960-a76a-4e8ee23880d4",
   "metadata": {},
   "outputs": [],
   "source": [
    "recipes1 = load_preprocess_raw_json_data('recipes_generator/data/recipes_raw_nosource_ar.json')\n",
    "recipes2 = load_preprocess_raw_json_data('recipes_generator/data/recipes_raw_nosource_epi.json')\n",
    "recipes3 = load_preprocess_raw_json_data('recipes_generator/data/recipes_raw_nosource_fn.json')"
   ]
  },
  {
   "cell_type": "code",
   "execution_count": 3,
   "id": "62d066f3-843a-4706-a59d-cda4e6d78a5c",
   "metadata": {},
   "outputs": [],
   "source": [
    "recipes4 = load_preprocess_raw_csv_data('recipes_generator/data/recipes_general.csv')"
   ]
  },
  {
   "cell_type": "code",
   "execution_count": 4,
   "id": "0a48afba-1fe2-4ec0-af92-c377dd7fb6a4",
   "metadata": {},
   "outputs": [
    {
     "name": "stdout",
     "output_type": "stream",
     "text": [
      "<|startoftext|>Prompt: beef eye round, dried thyme leaves, salt, pepper, ready-to-serve beef broth, Burgundy wine, garlic, cornstarch, frozen sugar snap peas\n",
      "Title: Low-Fat Burgundy Beef & Vegetable Stew\n",
      "Ingredients: \n",
      "- 1 1/2 tablespoon cornstarch\n",
      "- 1 cup frozen sugar snap peas\n",
      "- 1 glass Burgundy wine\n",
      "- 1/2 lb beef eye round\n",
      "- 1/2 ounce dried thyme leaves\n",
      "- 1 cup ready-to-serve beef broth\n",
      "- 1/2 clove garlic\n",
      "- 3 pinches salt\n",
      "- 5 1/2 pepper\n",
      "Servings: 6\n",
      "Instructions: Trim fat from beef cut into 1-inch pieces. In Dutch oven heat oil over medium high hunt until hot. Add beef (half at a time) and brown evenly stirring occasionally. Pour off drippings. Season with thyme salt and pepper. Stir in broth wine and garlic. Bring to boil; reduce heat to low. Cover tightly and simmer 1 1/2 hours. Add carrots and onions. Cover and continue cooking 35 to 40 minutes or until beef and vegetables are tender. Bring beef stew to a boil over medium-high heat. Add cornstarch mixture; cook and stir 1 minute. Stir in sugar snap peas. \n",
      "Reduce heat to medium and cook 3 to 4 minutes or until peas are heated through.\n",
      "Cook time: 2 h 14 min \n",
      "Preparation time: 30 min \n",
      "Total time: 2 h 44 min <|endoftext|>\n",
      "<|startoftext|>Prompt: French baguette, butter, garlic powder, ricotta cheese, parmesan cheese, salt, tomatoes, olive oil, fresh basil leaves\n",
      "Title: Lou's Fabulous Bruschetta\n",
      "Ingredients: \n",
      "- 1 clove garlic powder\n",
      "-  tomatoes\n",
      "-  ricotta cheese\n",
      "- 3/4 cup parmesan cheese\n",
      "-  salt\n",
      "-  fresh basil leaves\n",
      "- 4 French baguette\n",
      "- 1 ounce butter\n",
      "- 4 tablespoons olive oil\n",
      "Servings: 8\n",
      "Instructions: Cut baguette into slices. Butter and then sprinkle garlic powder each piece and bake till lightly golden brown. Mix garlic powder Parmesan cheese and salt in the ricotta cheese till a lovely blended taste. Dice tomatoes in small cubes   add Olive Oil and  small strips of fresh basil leaves cut into thin strips. Spread the ricotta mixture generously on the cooled garlic bread slices. Top with tomato mixture and bake at 350F for 10 minutes. Enjoy!\n",
      "Cook time: 10 min \n",
      "Preparation time: 30 min \n",
      "Total time: 40 min <|endoftext|>\n",
      "<|startoftext|>Prompt: Bisquick baking mix, sugar, butter, margarine, eggs, frozen blueberries, Bisquick baking mix, sugar, firm butter, margarine\n",
      "Title: Blueberry Dessert\n",
      "Ingredients: \n",
      "- 2 ounces firm butter\n",
      "- 1/2 cup sugar\n",
      "- 1/2 package Bisquick baking mix\n",
      "- 2 ounces margarine\n",
      "- 16 Bisquick baking mix\n",
      "- 1 cup frozen blueberries\n",
      "- 1 ounce butter\n",
      "- 1/4 eggs\n",
      "Servings: 12\n",
      "Instructions: Heat oven to 400 degrees. Mix 2 cups baking mix 1/2 cup sugar 1/2 cup butter  and egg yolks until crumbly. Press into ungreased rectangular pan 13x9x2. Bake 10 min. Beat egg whites until stiff; fold in blueberries. Spread over baked  layer. Mix remaining ingredients until crumbly; sprinkle over blueberry mixture. Bake until golden brown about 20 min.\n",
      "Preparation time: 35 min \n",
      "Total time: 35 min <|endoftext|>\n",
      "<|startoftext|>Prompt: brown sugar, butter, vanilla, eggs, all-purpose flour, salt, white chocolate, butter, sour cream\n",
      "Title: Brownie Heart Cake\n",
      "Ingredients: \n",
      "- 1 1/2 lb white chocolate\n",
      "- 3/4 cup all-purpose flour\n",
      "- 1 cup brown sugar\n",
      "- 3 teaspoons vanilla\n",
      "- 3/4 pinch salt\n",
      "- 1/2 cup sour cream\n",
      "- 1/4 ounce butter\n",
      "- 3/4 eggs\n",
      "Servings: 1 Large cake\n",
      "Instructions: CAKE:  Grease 5 cup heart shaped pan; dust with unsweetened cocoa powder and set aside.  In bowl blend together brown sugar butter and vanilla; add eggs one at a time beating well with wooden spoon after each addition. Sift together flour cocoa and salt; add all at once to creamed mixture mixing just until blended. Stir in nuts; spread in prepared pan. Loosely cover tip of heart with foil to prevent from drying out. Bake in 350xF oven for 35 to 40 minutes or until just barley firm to the touch. \n",
      "Let cool in pan for 10 minutes; turn out onto rack and let cool completely. FROSTING:  In top of double boiler over hot not boiling water melt white chocolate with butter. (Alternatively in microwaveable dish microwave at Medium/50% for 1 to 2 minutes or until softened.)  Remove from heat and let cool slightly; stir in sour cream until smooth and blended. Refrigerate for 10 minutes; spread smoothly over sides then top of cooled cake. GARNISH:  Sprinkle cocoa in attractive pattern on top of cake. Arrange almonds around top edge.\n",
      "Cook time: 42 min \n",
      "Preparation time: 35 min \n",
      "Total time: 1 h 17 min <|endoftext|>\n",
      "<|startoftext|>Prompt: fresh lemon juice, olive oil, black beans, fresh corn kernels, plum tomato, scallion, fresh parsley leaves, cayenne, boston lettuce leaves\n",
      "Title: Black Bean, Corn, and Tomato Salad\n",
      "Ingredients: \n",
      "- 3 teaspoons fresh lemon juice\n",
      "- 2 scallion\n",
      "- 1 tablespoon fresh parsley leaves\n",
      "- 1 package fresh corn kernels\n",
      "- 1 lb black beans\n",
      "- 1 boston lettuce leaves\n",
      "- 2 plum tomato\n",
      "- 1 pinch cayenne\n",
      "- 4 tablespoons olive oil\n",
      "Servings: 2\n",
      "Instructions: In a bowl whisk together lemon juice oil and salt to taste. Stir in remaining ingredients except lettuce leaves with salt and black pepper to taste. Let salad stand stirring once or twice 15 minutes for flavors to develop. Line 2 plates with lettuce and divide salad between them.\n",
      "Cook time: 15 min \n",
      "Preparation time: 10 min \n",
      "Total time: 25 min <|endoftext|>\n",
      "<|startoftext|>Prompt: olive oil, Italian sausage, garlic, red pepper flakes, salt, black pepper, sun-dried tomato, white wine, cabbage\n",
      "Title: Cabbage and Sausage Soup\n",
      "Ingredients: \n",
      "- 2 glasses white wine\n",
      "- 1 1/2 lb Italian sausage\n",
      "- 2 tablespoons black pepper\n",
      "- 4 red pepper flakes\n",
      "- 1/4 tablespoon olive oil\n",
      "- 1/2 cup sun-dried tomato\n",
      "- 1/4 lb cabbage\n",
      "- 1/2 clove garlic\n",
      "- 1/2 pinch salt\n",
      "Servings: 6\n",
      "Instructions: In a medium stockpot or Dutch oven heat olive oil over high heat and saute sausage for 3 minutes. Remove with a slotted spoon and set aside. Add onion garlic red pepper flakes salt pepper and sun dried tomatoes. Reduce heat to medium high and saute until onions are soft about 3 - 5 minutes. Stir in the wine and cook 2 minutes. Add cabbage reserved sausage and chicken stock. bring to a boil reduce heat and simmer 15 minutes. - - - - - - - - - - - - - - - - - - NOTES :    To serve place a piece of garlic toast in the bottom of the bowl and ladle soup over top.\n",
      "Cook time: 25 min \n",
      "Preparation time: 15 min \n",
      "Total time: 40 min <|endoftext|>\n",
      "<|startoftext|>Prompt: butter, almond paste, sugar, eggs, flour, cornstarch, baking powder, milk\n",
      "Title: Almond Pound Cake\n",
      "Ingredients: \n",
      "- 2/3 tablespoon cornstarch\n",
      "- 3 1/2 cups milk\n",
      "- 1 1/4 teaspoon baking powder\n",
      "- 4 ounces butter\n",
      "- 2 1/4 cups flour\n",
      "- 5 cups sugar\n",
      "- 1 eggs\n",
      "- 1/2 cup almond paste\n",
      "Servings: 10\n",
      "Instructions: Preheat oven to 350 degrees Fahrenheit. Cream butter and almond paste until fluffy. Add sugar gradually add eggs one at a time.  Mix together flour cornstarch and baking powder then add flour mixture and milk alternately. Bake in greased 9x5 loaf pan for 1 hour. Double recipe for a bundt pan and bake 75 minute. Cool 10 min in pan then turn out and cool completely. Serve with powdered sugar orange glaze or chocolate glaze.\n",
      "Cook time: 1 h \n",
      "Preparation time: 15 min \n",
      "Total time: 1 h 15 min <|endoftext|>\n",
      "<|startoftext|>Prompt: brewed coffee, ketchup, red wine vinegar, dark brown sugar, onion, garlic cloves, dark molasses, hot dry mustard, Worcestershire sauce, cumin, chili powder\n",
      "Title: Black Coffee Barbecue Sauce\n",
      "Ingredients: \n",
      "- 1/2 brewed coffee\n",
      "- 1 tablespoon red wine vinegar\n",
      "- 1/4 cup ketchup\n",
      "- 3/4 lb onion\n",
      "- 1 hot dry mustard\n",
      "- 2 dark molasses\n",
      "- 2 pinches cumin\n",
      "- 2 tablespoons chili powder\n",
      "- 2 tablespoons Worcestershire sauce\n",
      "- 2 tablespoons dark brown sugar\n",
      "- 2 garlic cloves\n",
      "Servings: 1 1/2 cups\n",
      "Instructions: Combine all ingredients in a saucepan and simmer over low heat for 20  minutes. Cool then puree in a blender or food processor until smooth. This can be stored in the refrigerator for up to 2 weeks in a covered  container.\n",
      "Cook time: 20 min \n",
      "Preparation time: 10 min \n",
      "Total time: 30 min <|endoftext|>\n",
      "<|startoftext|>Prompt: butter, sugar, eggs, cake flour, baking powder, salt, nutmeg, sour cream, Bourbon, pecans, powdered sugar, Bourbon, water\n",
      "Title: Bourbon Pecan Pound Cake\n",
      "Ingredients: \n",
      "- 1/2 pecans\n",
      "- 2 1/2 cups water\n",
      "- 6 pinches nutmeg\n",
      "- 3 teaspoons baking powder\n",
      "- 2 ounces butter\n",
      "- 1 cup cake flour\n",
      "- 1 pinch salt\n",
      "- 1 cup sugar\n",
      "- 1/2 cup powdered sugar\n",
      "- 1 1/2 cup sour cream\n",
      "- 2 Bourbon\n",
      "- 1 eggs\n",
      "Servings: 12\n",
      "Instructions: Combine butter and sugar in bowl of electric mixer and blend until light and fluffy. Add eggs one at a time beating constantly. Sift together flour baking powder salt and nutmeg. Blend sour cream and bourbon. Alternately add flour and sour cream mixture to batter. Add pecans. Grease bottom and sides of tube or bunt pan. Pour in batter and bake at 325 degrees for about one hour and 30 minutes. Test cake frequently after first hour and 15 minutes for doneness. Let cake cool in pan for 15 minutes before turning out on wire rack. \n",
      "To prepare glaze combine sugar and bourbon. Stir while gradually adding water. Add only enough water to make a pourable glaze without allowing mixture to become too thin. Pour glaze over top of warm cake and let dribble down sides.\n",
      "Cook time: 1 h \n",
      "Preparation time: 1 h \n",
      "Total time: 2 h <|endoftext|>\n",
      "<|startoftext|>Prompt: dry yeast, water, sugar, salt, flour, cornmeal, mozzarella cheese, oregano, pepper, green pepper, mushroom, parmesan cheese\n",
      "Title: Chicago Style Pizza\n",
      "Ingredients: \n",
      "- 1 cup water\n",
      "- 1 1/4 cup mozzarella cheese\n",
      "- 1 package dry yeast\n",
      "- 1 1/2 green pepper\n",
      "- 1/4 pinch salt\n",
      "- 3 cups flour\n",
      "- 2 cups sugar\n",
      "- 0.5 cup parmesan cheese\n",
      "- 1 teaspoon oregano\n",
      "-  mushroom\n",
      "-  cornmeal\n",
      "- 1/4 pepper\n",
      "Servings: 8\n",
      "Instructions: For crust dissolve yeast in water. Add sugar  salt and 2 tablespoons oil. Stir in flour to make a soft  dough. Turn out onto well floured board. Knead about 3  minutes. Put in greased bowl; cover and let rise in warm place  about 1 1/2  hours. Brush a 14-inch deep-dish pizza pan with  2 tablespoons oil; sprinkle  with corn meal. Punch dough down;  press in bottom of pan. Let rise 30 minutes. Punch down  again lightly coat with olive oil. Cook at 450 degrees for  about  10 minutes until set. (Punch down dough after 5 minutes or so.) Arrange cheese  over dough. \n",
      "Place pepperoni  olives peppers and mushrooms over cheese. Spread  pizza sauce. Sprinkle with oregano crushed pepper and  Parmesan cheese. Place  pizza in oven and cook at 450 degrees  until cheese is melted and crust is  golden (about 20 to 25 minutes). Makes  8 slices.\n",
      "Cook time: 2 h 38 min \n",
      "Preparation time: 35 min \n",
      "Total time: 3 h 13 min <|endoftext|>\n"
     ]
    }
   ],
   "source": [
    "for recipe in recipes4[20:30]:\n",
    "    print(recipe)"
   ]
  },
  {
   "cell_type": "code",
   "execution_count": 5,
   "id": "5be71112-9716-49a9-b319-ed2a637634b9",
   "metadata": {},
   "outputs": [],
   "source": [
    "recipe_list = recipes1 + recipes2 + recipes3 + recipes4"
   ]
  },
  {
   "cell_type": "code",
   "execution_count": 6,
   "id": "84720437-7c4e-4cd3-b45c-4f0b2c1d0972",
   "metadata": {},
   "outputs": [
    {
     "name": "stdout",
     "output_type": "stream",
     "text": [
      "39441\n",
      "18145\n",
      "55781\n",
      "487639\n"
     ]
    }
   ],
   "source": [
    "print(len(recipes1))\n",
    "print(len(recipes2))\n",
    "print(len(recipes3))\n",
    "print(len(recipes4))"
   ]
  },
  {
   "cell_type": "code",
   "execution_count": 7,
   "id": "0557a17f-6925-4914-a32e-b7b648d20e36",
   "metadata": {},
   "outputs": [
    {
     "name": "stdout",
     "output_type": "stream",
     "text": [
      "Number of train data:  480804\n",
      "Number of test data:  478\n"
     ]
    }
   ],
   "source": [
    "random.shuffle(recipe_list)\n",
    "train_list, test_list = recipe_list[:int(.8*len(recipe_list))], recipe_list[int(.8*len(recipe_list))]\n",
    "print('Number of train data: ', len(train_list))\n",
    "print('Number of test data: ', len(test_list))"
   ]
  },
  {
   "cell_type": "code",
   "execution_count": 8,
   "id": "db555e3c-52d2-4410-a0de-008181d7a11f",
   "metadata": {},
   "outputs": [
    {
     "data": {
      "text/plain": [
       "Embedding(50259, 768)"
      ]
     },
     "execution_count": 8,
     "metadata": {},
     "output_type": "execute_result"
    }
   ],
   "source": [
    "tokenizer = GPT2Tokenizer.from_pretrained('distilbert/distilgpt2', bos_token='<|startoftext|>', eos_token='<|endoftext|>', pad_token='<|pad|>')\n",
    "configuration = GPT2Config.from_pretrained('distilbert/distilgpt2', output_hidden_states=False)\n",
    "\n",
    "# instantiate the model\n",
    "model = GPT2LMHeadModel.from_pretrained(\"distilbert/distilgpt2\", config=configuration)\n",
    "model.resize_token_embeddings(len(tokenizer))"
   ]
  },
  {
   "cell_type": "code",
   "execution_count": 9,
   "id": "b38a44b9-b940-4d8f-a7ce-e2bbb49fdb99",
   "metadata": {},
   "outputs": [
    {
     "name": "stdout",
     "output_type": "stream",
     "text": [
      "432,723 training samples\n",
      "48,081 validation samples\n"
     ]
    }
   ],
   "source": [
    "from torch.utils.data import Dataset, DataLoader, random_split, RandomSampler, SequentialSampler\n",
    "\n",
    "dataset = RecipeDataset(train_list, tokenizer)\n",
    "\n",
    "# Split into training and validation sets\n",
    "train_size = int(0.9 * len(dataset))\n",
    "val_size = len(dataset) - train_size\n",
    "\n",
    "train_dataset, val_dataset = random_split(dataset, [train_size, val_size])\n",
    "del dataset\n",
    "\n",
    "print('{:>5,} training samples'.format(train_size))\n",
    "print('{:>5,} validation samples'.format(val_size))\n",
    "\n",
    "batch_size = 8"
   ]
  },
  {
   "cell_type": "markdown",
   "id": "b14fa8d5-f2da-4d9b-97a2-696800715e7e",
   "metadata": {},
   "source": [
    "# Model training"
   ]
  },
  {
   "cell_type": "code",
   "execution_count": 10,
   "id": "27379559-d557-4390-93c8-c1ef414c7049",
   "metadata": {},
   "outputs": [
    {
     "name": "stdout",
     "output_type": "stream",
     "text": [
      "Currently using device type:  cuda\n"
     ]
    }
   ],
   "source": [
    "# Finetune\n",
    "import torch\n",
    "import random\n",
    "\n",
    "# Tell pytorch to run this model on the GPU.\n",
    "device = torch.device(\"cuda\")\n",
    "\n",
    "# Set the seed value all over the place to make this reproducible.\n",
    "seed_val = 42\n",
    "\n",
    "random.seed(seed_val)\n",
    "np.random.seed(seed_val)\n",
    "torch.manual_seed(seed_val)\n",
    "torch.cuda.manual_seed_all(seed_val)\n",
    "\n",
    "\n",
    "# some parameters I cooked up that work reasonably well\n",
    "\n",
    "epochs = 2\n",
    "\n",
    "# this produces sample output every 100 steps\n",
    "sample_every = 1000\n",
    "# I save the model every 5000 step\n",
    "save_every = 5000\n",
    "# save the model to this file name\n",
    "save_file = 'recipes_generator/model/recipes_generation_model'\n",
    "\n",
    "\n",
    "\n",
    "training_stats = []\n",
    "print(\"Currently using device type: \", device)\n",
    "\n",
    "model = model.to(device)\n"
   ]
  },
  {
   "cell_type": "code",
   "execution_count": 11,
   "id": "fecd9372-70ac-46db-9725-211b74c2a374",
   "metadata": {},
   "outputs": [
    {
     "name": "stdout",
     "output_type": "stream",
     "text": [
      "Total number of steps:  108180\n",
      "Currently using device type:  cuda\n",
      "======== Epoch 1 / 2 ========\n",
      "Training...\n",
      "Batch: 54088, Loss: 0.5402792096138: 100%|██████████████████████████████████████████████████████████████████████████████████████████████████████████████████████████████████████████████████████████| 54089/54089 [9:47:50<00:00,  1.53it/s]  Average training loss: 0.55\n",
      "  Perplexity: 1.73\n",
      "Running Validation...\n",
      "Validation Loss: 0.4237533509731293: 100%|██████████████████████████████████████████████████████████████████████████████████████████████████████████████████████████████████████████████████████████████| 6010/6010 [21:49<00:00,  4.59it/s]  Validation Loss: 0.48\n",
      "  Validation perplexity: 1.61\n",
      "\n",
      "\n",
      "======== Epoch 2 / 2 ========\n",
      "Training...\n"
     ]
    },
    {
     "name": "stderr",
     "output_type": "stream",
     "text": [
      "Batch: 54089, Loss: 0.3778754770755768: 100%|███████████████████████████████████████████████████████████████████████████████████████████████████████████████████████████████████████████████████████| 54090/54090 [9:48:50<00:00,  1.53it/s]\n"
     ]
    },
    {
     "name": "stdout",
     "output_type": "stream",
     "text": [
      "\n",
      "  Average training loss: 0.49\n",
      "  Perplexity: 1.64\n",
      "\n",
      "Running Validation...\n"
     ]
    },
    {
     "name": "stderr",
     "output_type": "stream",
     "text": [
      "Validation Loss: 0.5597129464149475: 100%|██████████████████████████████████████████████████████████████████████████████████████████████████████████████████████████████████████████████████████████████| 6010/6010 [21:47<00:00,  4.60it/s]"
     ]
    },
    {
     "name": "stdout",
     "output_type": "stream",
     "text": [
      "  Validation Loss: 0.46\n",
      "  Validation perplexity: 1.58\n",
      "\n",
      "Training complete!\n"
     ]
    },
    {
     "name": "stderr",
     "output_type": "stream",
     "text": [
      "\n"
     ]
    }
   ],
   "source": [
    "# Fine-tune the GPT-2 model on the recipe dataset\n",
    "from recipes_generator.model.recipe_model import train_model\n",
    "history = train_model(model, train_dataset, val_dataset, epochs, batch_size, device, save_file=save_file)"
   ]
  },
  {
   "cell_type": "code",
   "execution_count": 12,
   "id": "e3a4c1b3-dca6-4fd5-bedc-0ce8955e28c2",
   "metadata": {},
   "outputs": [
    {
     "data": {
      "text/plain": [
       "('recipes_generator/model/recipes_generation_model/tokenizer_config.json',\n",
       " 'recipes_generator/model/recipes_generation_model/special_tokens_map.json',\n",
       " 'recipes_generator/model/recipes_generation_model/vocab.json',\n",
       " 'recipes_generator/model/recipes_generation_model/merges.txt',\n",
       " 'recipes_generator/model/recipes_generation_model/added_tokens.json')"
      ]
     },
     "execution_count": 12,
     "metadata": {},
     "output_type": "execute_result"
    }
   ],
   "source": [
    "model.save_pretrained(save_file)\n",
    "tokenizer.save_pretrained(save_file)"
   ]
  },
  {
   "cell_type": "markdown",
   "id": "36e3bb7a-7ae9-499b-b187-ce6adc2936e4",
   "metadata": {},
   "source": [
    "# Training results"
   ]
  },
  {
   "cell_type": "code",
   "execution_count": 13,
   "id": "12a4cfdb-e831-42c0-b29d-4c4798309d86",
   "metadata": {},
   "outputs": [
    {
     "name": "stderr",
     "output_type": "stream",
     "text": [
      "Special tokens have been added in the vocabulary, make sure the associated word embeddings are fine-tuned or trained.\n"
     ]
    },
    {
     "data": {
      "text/plain": [
       "Embedding(50259, 768)"
      ]
     },
     "execution_count": 13,
     "metadata": {},
     "output_type": "execute_result"
    }
   ],
   "source": [
    "tokenizer = GPT2Tokenizer.from_pretrained(save_file, bos_token='<|startoftext|>', eos_token='<|endoftext|>', pad_token='<|pad|>')\n",
    "# I'm not really doing anything with the config buheret\n",
    "configuration = GPT2Config.from_pretrained(save_file, output_hidden_states=False)\n",
    "\n",
    "# instantiate the model\n",
    "model = GPT2LMHeadModel.from_pretrained(save_file, config=configuration)\n",
    "\n",
    "# this step is necessary because I've added some tokens (bos_token, etc) to the embeddings\n",
    "# otherwise the tokenizer and model tensors won't match up\n",
    "model.resize_token_embeddings(len(tokenizer))"
   ]
  },
  {
   "cell_type": "code",
   "execution_count": 14,
   "id": "2c454b99-c1ba-440d-adb1-f0092ea59af4",
   "metadata": {},
   "outputs": [
    {
     "name": "stdout",
     "output_type": "stream",
     "text": [
      "Testing...\n"
     ]
    },
    {
     "name": "stderr",
     "output_type": "stream",
     "text": [
      "Validation Loss: 19.67061424255371: 100%|███████████████████████████████████████████████████████████████████████████████████████████████████████████████████████████████████████████████████████████████████| 60/60 [00:14<00:00,  4.28it/s]"
     ]
    },
    {
     "name": "stdout",
     "output_type": "stream",
     "text": [
      "  Validation Loss: 19.35\n",
      "  Validation perplexity: 254429424.00\n"
     ]
    },
    {
     "name": "stderr",
     "output_type": "stream",
     "text": [
      "\n"
     ]
    }
   ],
   "source": [
    "import pandas as pd\n",
    "from recipes_generator.model.recipe_model import evaluate_model\n",
    "test_dataset = RecipeDataset(test_list, tokenizer, max_length=768)\n",
    "print('Testing...')\n",
    "test_loss, test_perplexity = evaluate_model(model, test_dataset, batch_size, device)\n",
    "test_eval_df = pd.DataFrame(columns = [\"test_loss\", \"test_perplexity\"])\n",
    "test_eval_df['test_loss'] = test_loss\n",
    "test_eval_df['test_perplexity'] = test_perplexity\n",
    "test_eval_df.to_csv(\"recipes_generator/model/recipes_generation_model/test_eval.csv\")"
   ]
  },
  {
   "cell_type": "code",
   "execution_count": null,
   "id": "96b15979-b2ca-4657-904e-c8a1c3a0ef2f",
   "metadata": {},
   "outputs": [],
   "source": [
    "training_eval_df = pd.DataFrame(columns = [\"epoch\", \"training loss\", \"validation loss\", \"train perplexity\", \"validation perplexity\"])\n",
    "train_loss = []\n",
    "train_perp = []\n",
    "valid_loss = []\n",
    "valid_perp = []\n",
    "for epoch in history:\n",
    "    train_loss.append(epoch['Training Loss'])\n",
    "    train_perp.append(epoch['Training Perplexity'])\n",
    "    valid_loss.append(epoch['Valid. Loss'])\n",
    "    valid_perp.append(epoch['Valid. Perplexity'])\n",
    "\n",
    "training_eval_df['epoch'] = [x for x in range(len(training_stats))]\n",
    "training_eval_df['training loss'] = train_loss\n",
    "training_eval_df['validation loss'] = valid_loss\n",
    "training_eval_df['train perplexity'] = train_perp\n",
    "training_eval_df['validation perplexity'] = valid_perp\n",
    "\n",
    "training_eval_df.to_csv(\"recipes_generator/model/recipes_generation_model/train_eval.csv\")"
   ]
  },
  {
   "cell_type": "markdown",
   "id": "4e6a1d13-d781-4618-a7c6-aa118724af5a",
   "metadata": {},
   "source": [
    "# Examples of generated recipes"
   ]
  },
  {
   "cell_type": "code",
   "execution_count": 16,
   "id": "2d1670bb-8e07-41de-85de-ed5512a8cf16",
   "metadata": {},
   "outputs": [
    {
     "name": "stderr",
     "output_type": "stream",
     "text": [
      "Setting `pad_token_id` to `eos_token_id`:50256 for open-end generation.\n",
      "Both `max_new_tokens` (=768) and `max_length`(=768) seem to have been set. `max_new_tokens` will take precedence. Please refer to the documentation for more information. (https://huggingface.co/docs/transformers/main/en/main_classes/text_generation)\n",
      "Setting `pad_token_id` to `eos_token_id`:50256 for open-end generation.\n",
      "Both `max_new_tokens` (=768) and `max_length`(=768) seem to have been set. `max_new_tokens` will take precedence. Please refer to the documentation for more information. (https://huggingface.co/docs/transformers/main/en/main_classes/text_generation)\n"
     ]
    },
    {
     "name": "stdout",
     "output_type": "stream",
     "text": [
      "Prompt: chocolate,flour,sugar, butter, sugar, eggs, flour, baking powder, salt\n",
      "Title: Chocolate Cake\n",
      "Ingredients: \n",
      "- 150 g flour\n",
      "- 150 baking powder\n",
      "- 150 g salt\n",
      "- 150 eggs\n",
      "- 150 g chocolate\n",
      "- 2 cups sugar\n",
      "- 1/2 ounce butter\n",
      "Servings: 1 cake\n",
      "Instructions: Preheat oven to 180°C. Grease and flour a 20cm round cake tin. Melt the chocolate in a heatproof bowl set over a pan of simmering water stirring occasionally until smooth. Set aside to cool slightly. Sift the flour baking powder and salt into a bowl. In a large bowl cream the butter and sugar until light and fluffy. Add the eggs one at a time beating well after each addition. Add the melted chocolate and mix well. Add the flour mixture and mix well. Pour the batter into the prepared cake tin and smooth the top. \n",
      "Bake for 40-45 minutes or until a skewer inserted into the cake comes out clean. Cool in the tin for 10 minutes then turn out onto a wire rack to cool completely.\n",
      "Cook time: 45 min \n",
      "Preparation time: 20 min \n",
      "Total time: 1 h 5 min \n"
     ]
    },
    {
     "name": "stderr",
     "output_type": "stream",
     "text": [
      "Setting `pad_token_id` to `eos_token_id`:50256 for open-end generation.\n",
      "Both `max_new_tokens` (=768) and `max_length`(=768) seem to have been set. `max_new_tokens` will take precedence. Please refer to the documentation for more information. (https://huggingface.co/docs/transformers/main/en/main_classes/text_generation)\n"
     ]
    },
    {
     "name": "stdout",
     "output_type": "stream",
     "text": [
      "Prompt: chicken, flour, lemon, parmesan cheese, salt, pepper\n",
      "Title: Chicken Parmesan\n",
      "Ingredients: \n",
      "- 1 cup flour\n",
      "- 1 pinch salt\n",
      "- 1 pepper\n",
      "- 1 lemon\n",
      "- 1/2 cup parmesan cheese\n",
      "- 1/2 chicken\n",
      "Servings: 4\n",
      "Instructions: Preheat oven to 350°F. Rinse chicken and pat dry with paper towels. Mix flour lemon zest lemon juice parmesan cheese salt and pepper in a plastic bag. Add chicken and shake to coat. Heat oil in a large skillet over medium-high heat. Add chicken and cook until browned on all sides about 5 minutes. Transfer chicken to a baking dish. Bake until chicken is cooked through about 30 minutes.\n",
      "Cook time: 30 min \n",
      "Preparation time: 10 min \n",
      "Total time: 40 min \n"
     ]
    },
    {
     "name": "stderr",
     "output_type": "stream",
     "text": [
      "Setting `pad_token_id` to `eos_token_id`:50256 for open-end generation.\n",
      "Both `max_new_tokens` (=768) and `max_length`(=768) seem to have been set. `max_new_tokens` will take precedence. Please refer to the documentation for more information. (https://huggingface.co/docs/transformers/main/en/main_classes/text_generation)\n"
     ]
    },
    {
     "name": "stdout",
     "output_type": "stream",
     "text": [
      "Prompt: courgette, aubergine,flour,lemon, zest of, garlic clove, olive oil\n",
      "Title: Courgette and Aubergine Gratin\n",
      "Ingredients: \n",
      "- 1 garlic clove\n",
      "- 1 aubergine\n",
      "- 1 zest of\n",
      "- 1 lb courgette\n",
      "- 1 lemon\n",
      "- 1 tablespoon olive oil\n",
      "Servings: 4\n",
      "Instructions: Preheat the oven to 400°F. Place the courgette and aubergine in a baking dish and season with salt and freshly ground black pepper. Sprinkle with the lemon zest and garlic and drizzle with the olive oil. Bake for 30 minutes or until the courgette and aubergine are tender.\n",
      "Cook time: 30 min \n",
      "Preparation time: 10 min \n",
      "Total time: 40 min \n",
      "Prompt: courgette, pepper, flour, mid-seasoned cheese, olive oil, garlic clove\n",
      "Title: Courgette Fritters\n",
      "Ingredients: \n",
      "- 1 cup flour\n",
      "- 1 garlic clove\n",
      "- 1/2 pepper\n",
      "- 1/2 lb courgette\n",
      "- 1 tablespoon olive oil\n",
      "- 1 cup mid-seasoned cheese\n",
      "Servings: 4\n",
      "Instructions: Cut courgette in half lengthwise and cut into thin slices. Mix flour and pepper in a bowl. Dip courgette slices in flour mixture. Heat oil in a large frying pan and fry courgette slices until golden brown on both sides. Remove from pan and drain on absorbent kitchen paper. Add garlic to oil and fry for 1 minute. Return courgette slices to pan and add stock. Cover and simmer until courgette is tender.\n",
      "Cook time: 20 min \n",
      "Preparation time: 10 min \n",
      "Total time: 30 min \n"
     ]
    }
   ],
   "source": [
    "from recipes_generator.model.recipe_model import generate_recipe\n",
    "prompts = ['chocolate,flour,sugar', 'chicken, flour, lemon, parmesan cheese', 'courgette, aubergine,flour,lemon', 'courgette, pepper, flour, mid-seasoned cheese']\n",
    "generated_recipes = []\n",
    "for p in prompts:    \n",
    "    recipe = generate_recipe(p, model, tokenizer,device)\n",
    "    print(recipe)\n",
    "    generated_recipes.append(recipe)\n"
   ]
  },
  {
   "cell_type": "code",
   "execution_count": 17,
   "id": "43c3bb38-a1f6-4052-852d-dcf6e0ab7a3d",
   "metadata": {},
   "outputs": [
    {
     "name": "stderr",
     "output_type": "stream",
     "text": [
      "Special tokens have been added in the vocabulary, make sure the associated word embeddings are fine-tuned or trained.\n",
      "Special tokens have been added in the vocabulary, make sure the associated word embeddings are fine-tuned or trained.\n",
      "Setting `pad_token_id` to `eos_token_id`:50256 for open-end generation.\n",
      "Both `max_new_tokens` (=768) and `max_length`(=768) seem to have been set. `max_new_tokens` will take precedence. Please refer to the documentation for more information. (https://huggingface.co/docs/transformers/main/en/main_classes/text_generation)\n",
      "Setting `pad_token_id` to `eos_token_id`:50256 for open-end generation.\n",
      "Both `max_new_tokens` (=768) and `max_length`(=768) seem to have been set. `max_new_tokens` will take precedence. Please refer to the documentation for more information. (https://huggingface.co/docs/transformers/main/en/main_classes/text_generation)\n"
     ]
    },
    {
     "name": "stdout",
     "output_type": "stream",
     "text": [
      "Prompt: chocolate,flour,sugar, unsalted butter, eggs, vanilla extract\n",
      "Title: Chocolate Cake\n",
      "Ingredients: \n",
      "- 150 g vanilla extract\n",
      "- 150 g unsalted butter\n",
      "- 150 eggs\n",
      "- 3 cupsflour\n",
      "- 2 cups sugar\n",
      "- 2 lbs chocolate\n",
      "Servings: 1\n",
      "Instructions: Preheat oven to 180°C. Grease and line a 20cm springform tin with baking paper. Melt the chocolate in a heatproof bowl set over a pan of simmering water stirring until smooth. Set aside to cool slightly. Sift the flour and sugar together into a large bowl. Add the melted chocolate and stir to combine. Add the melted butter eggs and vanilla and stir to combine. Pour the mixture into the prepared tin and smooth the top. Bake for 1 hour or until a skewer inserted into the centre of the cake comes out clean. \n",
      "Cool in the tin for 10 minutes then turn out onto a wire rack to cool completely.\n",
      "Cook time: 1 h \n",
      "Preparation time: 15 min \n",
      "Total time: 1 h 15 min \n"
     ]
    },
    {
     "name": "stderr",
     "output_type": "stream",
     "text": [
      "Setting `pad_token_id` to `eos_token_id`:50256 for open-end generation.\n",
      "Both `max_new_tokens` (=768) and `max_length`(=768) seem to have been set. `max_new_tokens` will take precedence. Please refer to the documentation for more information. (https://huggingface.co/docs/transformers/main/en/main_classes/text_generation)\n"
     ]
    },
    {
     "name": "stdout",
     "output_type": "stream",
     "text": [
      "Prompt: chicken, flour, lemon, parmesan cheese, salt, pepper, olive oil, butter, onion, garlic cloves, dry white wine, chicken broth, fresh parsley\n",
      "Title: Chicken Piccata\n",
      "Ingredients: \n",
      "- 1 cup flour\n",
      "- 1 pinch salt\n",
      "- 1/4 glass dry white wine\n",
      "- 1/4 pepper\n",
      "- 1/4 cup chicken broth\n",
      "- 1/4 lb onion\n",
      "- 1/4 garlic cloves\n",
      "- 1/4 ounce butter\n",
      "- 2 lemon\n",
      "- 1 cup parmesan cheese\n",
      "- 1 tablespoon olive oil\n",
      "- 1/2 chicken\n",
      "- 1 tablespoon fresh parsley\n",
      "Servings: 4\n",
      "Instructions: Sprinkle chicken with salt and pepper. Dredge chicken in flour shaking off excess. Heat oil and butter in a large skillet over medium-high heat. Add chicken and cook turning once until browned about 10 minutes. Transfer chicken to a plate. Add onion and garlic to skillet and cook stirring occasionally until softened about 5 minutes. Add wine and broth and bring to a boil scraping up browned bits. Return chicken to skillet. Cover reduce heat to medium-low and simmer until chicken is cooked through about 20 minutes. \n",
      "Transfer chicken to a platter and cover with foil to keep warm. Stir parsley into sauce and spoon over chicken.\n",
      "Cook time: 30 min \n",
      "Preparation time: 10 min \n",
      "Total time: 40 min \n"
     ]
    },
    {
     "name": "stderr",
     "output_type": "stream",
     "text": [
      "Setting `pad_token_id` to `eos_token_id`:50256 for open-end generation.\n",
      "Both `max_new_tokens` (=768) and `max_length`(=768) seem to have been set. `max_new_tokens` will take precedence. Please refer to the documentation for more information. (https://huggingface.co/docs/transformers/main/en/main_classes/text_generation)\n"
     ]
    },
    {
     "name": "stdout",
     "output_type": "stream",
     "text": [
      "Prompt: courgette, aubergine,flour,lemon, garlic clove, olive oil, parmesan cheese\n",
      "Title: Courgette and aubergine\n",
      "Ingredients: \n",
      "- 1 garlic clove\n",
      "- 1 aubergine\n",
      "- 1 lemon\n",
      "- 1 cup flour\n",
      "- 1 lb courgette\n",
      "- 1 tablespoon olive oil\n",
      "- 1 cup parmesan cheese\n",
      "Servings: 4\n",
      "Instructions: Peel the courgette and cut into thin slices. Peel the aubergine and cut into thin slices. Put the flour in a bowl and season with salt and pepper. Dredge the courgette slices in the flour shaking off any excess. Heat the oil in a large frying pan and add the courgette slices and aubergine slices. Cook over a medium heat for 3-4 minutes or until the aubergine is tender. Add the lemon juice and garlic and cook for a further 2-3 minutes or until the aubergine is tender. \n",
      "Sprinkle with the parmesan and serve immediately.\n",
      "Cook time: 10 min \n",
      "Preparation time: 10 min \n",
      "Total time: 20 min \n",
      "Prompt: courgette, pepper, flour, mid-seasoned cheese, olive oil\n",
      "Title: Courgette Fritters\n",
      "Ingredients: \n",
      "- 1 cup flour\n",
      "- 1 pepper\n",
      "- 1/2 lb courgette\n",
      "- 1/2 tablespoon olive oil\n",
      "- 1/2 cup mid-seasoned cheese\n",
      "Servings: 4\n",
      "Instructions: Cut courgette into 1/2 inch thick slices. Sprinkle with salt and pepper. Dredge in flour shaking off excess. Heat oil in a large nonstick skillet over medium-high heat. Add courgette slices and cook for 3 minutes on each side or until golden brown. Serve immediately.\n",
      "Cook time: 10 min \n",
      "Preparation time: 10 min \n",
      "Total time: 20 min \n"
     ]
    }
   ],
   "source": [
    "prompts = ['chocolate,flour,sugar', 'chicken, flour, lemon, parmesan cheese', 'courgette, aubergine,flour,lemon', 'courgette, pepper, flour, mid-seasoned cheese']\n",
    "model_loaded = GPT2LMHeadModel.from_pretrained(save_file, ignore_mismatched_sizes=True).to(device)\n",
    "tokenizer_loaded = GPT2TokenizerFast.from_pretrained(\"tokenizer\")\n",
    "generated_recipes_from_loaded = []\n",
    "for p in prompts:    \n",
    "    recipe = generate_recipe(p, model_loaded, tokenizer_loaded,device)\n",
    "    print(recipe)\n",
    "    generated_recipes_from_loaded.append(recipe)"
   ]
  },
  {
   "cell_type": "code",
   "execution_count": null,
   "id": "0f0af017-afa2-46dd-9d0e-5fab53903ada",
   "metadata": {},
   "outputs": [],
   "source": []
  }
 ],
 "metadata": {
  "kernelspec": {
   "display_name": "Python 3 (ipykernel)",
   "language": "python",
   "name": "python3"
  },
  "language_info": {
   "codemirror_mode": {
    "name": "ipython",
    "version": 3
   },
   "file_extension": ".py",
   "mimetype": "text/x-python",
   "name": "python",
   "nbconvert_exporter": "python",
   "pygments_lexer": "ipython3",
   "version": "3.11.2"
  }
 },
 "nbformat": 4,
 "nbformat_minor": 5
}
