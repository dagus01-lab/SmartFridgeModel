{
 "cells": [
  {
   "cell_type": "code",
   "execution_count": 1,
   "id": "516a47e8-9f9c-4910-8339-e8beb89fd716",
   "metadata": {},
   "outputs": [],
   "source": [
    "from detector import *"
   ]
  },
  {
   "cell_type": "code",
   "execution_count": null,
   "id": "c4b34ec3-5536-41b0-b84d-cf632bcf806b",
   "metadata": {},
   "outputs": [],
   "source": [
    "model = YOLO('yolov8n.pt')\n",
    "freeze_layers = 10\n",
    "cfg_path = 'detector/data/data.yaml'"
   ]
  },
  {
   "cell_type": "code",
   "execution_count": null,
   "id": "6d7ebb8d-5827-491e-82ed-c5afa30bab7d",
   "metadata": {},
   "outputs": [],
   "source": [
    "#model.train(cfg=cfg_path, epochs=300, name='aichef', freeze=freeze_layers)\n",
    "model.train(cfg=cfg_path, epochs=300, name='aichef') #test without freeze and see how it goes"
   ]
  }
 ],
 "metadata": {
  "kernelspec": {
   "display_name": "Python 3 (ipykernel)",
   "language": "python",
   "name": "python3"
  },
  "language_info": {
   "codemirror_mode": {
    "name": "ipython",
    "version": 3
   },
   "file_extension": ".py",
   "mimetype": "text/x-python",
   "name": "python",
   "nbconvert_exporter": "python",
   "pygments_lexer": "ipython3",
   "version": "3.11.2"
  }
 },
 "nbformat": 4,
 "nbformat_minor": 5
}
