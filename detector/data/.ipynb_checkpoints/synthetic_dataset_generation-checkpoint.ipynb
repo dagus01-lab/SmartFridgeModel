{
 "cells": [
  {
   "cell_type": "markdown",
   "id": "35786311-254a-47b4-8d66-ab63368c71e2",
   "metadata": {},
   "source": [
    "# Synthetic dataset generation"
   ]
  },
  {
   "cell_type": "code",
   "execution_count": null,
   "id": "516a47e8-9f9c-4910-8339-e8beb89fd716",
   "metadata": {},
   "outputs": [
    {
     "name": "stdout",
     "output_type": "stream",
     "text": [
      "Processing train dataset files: 100%|█████| 1917/1917 [04:31<00:00,  7.05file/s]\n",
      "Processing valid dataset files:  65%|████▌  | 349/540 [00:34<00:30,  6.18file/s]"
     ]
    }
   ],
   "source": [
    "!python3 synthetic_data.py -f synthetic_dataset.yaml"
   ]
  },
  {
   "cell_type": "markdown",
   "id": "b5cdc771-30b0-4e9b-b18f-aa478058561f",
   "metadata": {},
   "source": [
    "# Some examples of generated images"
   ]
  },
  {
   "cell_type": "code",
   "execution_count": null,
   "id": "3e1ca910-2a51-421d-96f5-2700c8f55dae",
   "metadata": {},
   "outputs": [],
   "source": [
    "supported_formats = ('.png', '.jpg', '.jpeg', '.gif', '.bmp')\n",
    "image_files = [f for f in os.listdir(image_dir) if f.lower().endswith(supported_formats)]\n",
    "\n",
    "for image_file in image_files[:10]:\n",
    "    image_path = os.path.join(image_dir, image_file)\n",
    "    image = Image.open(image_path)\n",
    "        \n",
    "    plt.figure()\n",
    "    plt.imshow(image)\n",
    "    plt.axis('off')  # Hide axes\n",
    "    plt.show()"
   ]
  }
 ],
 "metadata": {
  "kernelspec": {
   "display_name": "Python 3 (ipykernel)",
   "language": "python",
   "name": "python3"
  },
  "language_info": {
   "codemirror_mode": {
    "name": "ipython",
    "version": 3
   },
   "file_extension": ".py",
   "mimetype": "text/x-python",
   "name": "python",
   "nbconvert_exporter": "python",
   "pygments_lexer": "ipython3",
   "version": "3.11.2"
  }
 },
 "nbformat": 4,
 "nbformat_minor": 5
}
